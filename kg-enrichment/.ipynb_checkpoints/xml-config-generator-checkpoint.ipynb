{
 "cells": [
  {
   "cell_type": "code",
   "execution_count": 1,
   "id": "971a3434",
   "metadata": {},
   "outputs": [],
   "source": [
    "# Create/Load the config xml template\n",
    "# extract all classes and their properties from dbpedia ontology\n",
    "# For each class find coverage of each property\n",
    "# write config file for each class\n",
    "    # write properties with coverage higher than set threshold "
   ]
  },
  {
   "cell_type": "code",
   "execution_count": 87,
   "id": "8999ec81",
   "metadata": {},
   "outputs": [],
   "source": [
    "# Imports\n",
    "import xml.etree.ElementTree as ET\n",
    "from SPARQLWrapper import SPARQLWrapper, JSON\n",
    "import time, os, re, copy\n",
    "from xml.dom import minidom"
   ]
  },
  {
   "cell_type": "code",
   "execution_count": 88,
   "id": "ff884e9c",
   "metadata": {},
   "outputs": [],
   "source": [
    "# Read template xml file to a string\n",
    "sample_xml = './limes_config_template.xml'\n",
    "sample_file = ET.parse(sample_xml)"
   ]
  },
  {
   "cell_type": "code",
   "execution_count": 89,
   "id": "bedb78c3",
   "metadata": {},
   "outputs": [],
   "source": [
    "# Sparql endpoints\n",
    "sparql_en = SPARQLWrapper(endpoint=\"http://porque.cs.upb.de:8890/sparql\", defaultGraph=\"http://www.upb.de/en-dbp2016-10\")\n",
    "sparql_de = SPARQLWrapper(endpoint=\"http://porque.cs.upb.de:8890/sparql\", defaultGraph=\"http://www.upb.de/de-dbp2016-10\")\n",
    "sparql_fr = SPARQLWrapper(endpoint=\"http://porque.cs.upb.de:8890/sparql\", defaultGraph=\"http://www.upb.de/fr-dbp2016-10\")\n",
    "sparql_es = SPARQLWrapper(endpoint=\"http://porque.cs.upb.de:8890/sparql\", defaultGraph=\"http://www.upb.de/es-dbp2016-10\")\n",
    "\n",
    "sparql_map = {\n",
    "    'en': sparql_en,\n",
    "    'de': sparql_de,\n",
    "    'es': sparql_es,\n",
    "    'fr': sparql_fr\n",
    "}\n"
   ]
  },
  {
   "cell_type": "code",
   "execution_count": null,
   "id": "f1e54d06-9754-4d65-9255-37eb947c945c",
   "metadata": {},
   "outputs": [],
   "source": []
  },
  {
   "cell_type": "code",
   "execution_count": 90,
   "id": "25d0150e",
   "metadata": {},
   "outputs": [],
   "source": [
    "# SPARQL - for each class find all its properties ond the number of times it appeared in its instances\n",
    "propcount_sparql = '''\n",
    "SELECT ?prop (count(?prop) as ?propcount) WHERE\n",
    "{\n",
    "?res a <%s> .\n",
    "?res ?prop ?obj .\n",
    "?prop <http://www.w3.org/2000/01/rdf-schema#domain> <%s> .\n",
    "FILTER STRSTARTS( str(?prop), \"http://dbpedia.org/ontology/\" )\n",
    "}\n",
    "GROUP BY ?prop\n",
    "'''\n",
    "# SPARQL - for each class count the number of instances it has\n",
    "rescount_sparql = '''\n",
    "select ?class (count(?res) as ?instancecount) where {\n",
    "?res a ?class .\n",
    "FILTER STRSTARTS( str(?class), \"http://dbpedia.org/ontology/\" )\n",
    "} \n",
    "GROUP BY ?class\n",
    "'''\n",
    "\n",
    "restriction_tmplt_x = '?x a dbo:%s'\n",
    "restriction_tmplt_y = '?y a dbo:%s'"
   ]
  },
  {
   "cell_type": "code",
   "execution_count": null,
   "id": "e0ed9abb",
   "metadata": {},
   "outputs": [],
   "source": [
    "# Extract instance counts for all classes\n",
    "crm_lang_map = dict()\n",
    "for lang in sparql_map.keys():\n",
    "    sparql_ln = sparql_map[lang]\n",
    "    class_rescount_map = dict()\n",
    "    \n",
    "    sparql_ln.setQuery(rescount_sparql)\n",
    "    sparql_ln.setReturnFormat(JSON)\n",
    "    results = sparql_ln.query().convert()\n",
    "\n",
    "    for result in results[\"results\"][\"bindings\"]:\n",
    "        classUri = result[\"class\"][\"value\"]\n",
    "        instanceCount = result[\"instancecount\"][\"value\"]\n",
    "        class_rescount_map[classUri] = instanceCount\n",
    "    crm_lang_map[lang] = class_rescount_map\n",
    "    print(lang,'class->instance-count map size:',len(class_rescount_map))\n"
   ]
  },
  {
   "cell_type": "code",
   "execution_count": null,
   "id": "801778f1",
   "metadata": {},
   "outputs": [],
   "source": [
    "# Extract property counts for all classes and divide them by instance counts to get coverage\n",
    "class_rescount_map = crm_lang_map['en']\n",
    "class_propcov_map = dict()\n",
    "xml_map = dict()\n",
    "for classUri in class_rescount_map.keys():\n",
    "    # ignore classes with zero instances\n",
    "    if class_rescount_map[classUri] == 0:\n",
    "        continue\n",
    "    print('Querying for class', classUri)\n",
    "    class_propcov_map[classUri] = dict()\n",
    "    # Run query \n",
    "    sparql_en.setQuery(propcount_sparql%(classUri, classUri))\n",
    "    sparql_en.setReturnFormat(JSON)\n",
    "    results = sparql_en.query().convert()\n",
    "    \n",
    "    print('Results found:', len(results[\"results\"][\"bindings\"]))\n",
    "    propTags = []\n",
    "    # Adding rdfs label tag by default\n",
    "    prop_tag = ET.Element('PROPERTY')\n",
    "    prop_tag.text = 'rdfs:label AS nolang->lowercase'\n",
    "    propTags.append(prop_tag)\n",
    "    # this array is just for logging\n",
    "    propLbls = []\n",
    "    for result in results[\"results\"][\"bindings\"]:\n",
    "        propUri = result[\"prop\"][\"value\"]\n",
    "        propCount = result[\"propcount\"][\"value\"]\n",
    "        propCov = int(propCount)/int(class_rescount_map[classUri])\n",
    "        class_propcov_map[classUri][propUri] = propCov\n",
    "        if(propCov > 0.4):\n",
    "            # Create Property tags\n",
    "            prop_tag = ET.Element('PROPERTY')\n",
    "            # prop_tag.text = '<'+propUri+'>'\n",
    "            prop_tag.text = 'dbo:' + propUri.split('/')[-1]\n",
    "            propLbls.append(prop_tag.text)\n",
    "            propTags.append(prop_tag)\n",
    "    print('accepted properties:', propLbls)\n",
    "    if(len(propTags) > 1):\n",
    "        # Create XML Config\n",
    "        xml_obj = copy.deepcopy(sample_file)\n",
    "        # Create restrictions with class URI\n",
    "        restr_tagx = ET.Element('RESTRICTION')\n",
    "        restr_tagy = ET.Element('RESTRICTION')\n",
    "        class_label = classUri.split('/')[-1]\n",
    "        restr_tagx.text = restriction_tmplt_x%(class_label)\n",
    "        restr_tagy.text = restriction_tmplt_y%(class_label)\n",
    "        \n",
    "        # Find source and target\n",
    "        source_ele = xml_obj.getroot().find('SOURCE')\n",
    "        target_ele = xml_obj.getroot().find('TARGET')\n",
    "        # add source elements\n",
    "        source_ele.append(restr_tagx)\n",
    "        source_ele.extend(propTags)\n",
    "        # add target elements\n",
    "        target_ele.append(restr_tagy)\n",
    "        target_ele.extend(propTags)\n",
    "        # append to xml list\n",
    "        # print('Position in array:', len(xml_arr))\n",
    "        xml_map[classUri] = xml_obj"
   ]
  },
  {
   "cell_type": "code",
   "execution_count": 81,
   "id": "97f38480",
   "metadata": {},
   "outputs": [
    {
     "data": {
      "text/plain": [
       "421"
      ]
     },
     "execution_count": 81,
     "metadata": {},
     "output_type": "execute_result"
    }
   ],
   "source": [
    "len(class_propcov_map)"
   ]
  },
  {
   "cell_type": "code",
   "execution_count": 82,
   "id": "004c8f8b",
   "metadata": {},
   "outputs": [
    {
     "data": {
      "text/plain": [
       "95"
      ]
     },
     "execution_count": 82,
     "metadata": {},
     "output_type": "execute_result"
    }
   ],
   "source": [
    "len(xml_map)"
   ]
  },
  {
   "cell_type": "code",
   "execution_count": 83,
   "id": "4d58e658-749b-45b4-a969-4f208caaaf9c",
   "metadata": {},
   "outputs": [
    {
     "name": "stdout",
     "output_type": "stream",
     "text": [
      "Done\n"
     ]
    }
   ],
   "source": [
    "outfile_tmplt = './limes-cfg/porque_enrich_limes_config_%s_%s.xml'\n",
    "predfile_tmplt = 'predictions_%s_%s.nt'\n",
    "revfile_tmplt = 'predictions_rev_%s_%s.nt'\n",
    "count = 1\n",
    "for class_name in xml_map.keys():\n",
    "    xml_obj = xml_map[class_name]\n",
    "    count_str = str(count)\n",
    "    # For each language (de/es/fr)\n",
    "    for lang in ['de','fr','es']:\n",
    "        # check their map for the class. If class exists, then create the config file for that language\n",
    "        if (not class_name in crm_lang_map[lang]) or crm_lang_map[lang][class_name] == 0:\n",
    "            continue\n",
    "        file_name = outfile_tmplt%(lang, count)\n",
    "        predfile = predfile_tmplt%(lang, count)\n",
    "        revfile = revfile_tmplt%(lang, count)\n",
    "        # change prediction and review file name\n",
    "        xml_obj.getroot().find('ACCEPTANCE').find('FILE').text = predfile\n",
    "        xml_obj.getroot().find('REVIEW').find('FILE').text = revfile\n",
    "        # change the map for query\n",
    "        target_graph = xml_obj.getroot().find('TARGET').find('GRAPH')\n",
    "        target_graph.text = sparql_map[lang]._defaultGraph\n",
    "        # Convert obj to string and write \n",
    "        # xmlstr = minidom.parseString(ET.tostring(xml_obj.getroot())).toprettyxml(indent=\"    \",encoding=\"utf-8\")\n",
    "        with open(file_name, \"wb\") as f:\n",
    "            # f.write(xmlstr)\n",
    "            f.write('<?xml version=\"1.0\" encoding=\"utf-8\"?>\\n<!DOCTYPE LIMES SYSTEM \"limes.dtd\">\\n'.encode('utf8'))\n",
    "            ET.ElementTree(xml_obj.getroot()).write(f, 'utf-8')\n",
    "    count+=1\n",
    "print('Done')"
   ]
  },
  {
   "cell_type": "code",
   "execution_count": 33,
   "id": "6053b757",
   "metadata": {},
   "outputs": [
    {
     "name": "stdout",
     "output_type": "stream",
     "text": [
      "Done\n"
     ]
    }
   ],
   "source": [
    "#\n",
    "# Obsolete code\n",
    "#\n",
    "\n",
    "outfile_tmplt = '/data-disk/kg-fusion/limes-cfg/porque_enrich_limes_config_%s.xml'\n",
    "predfile_tmplt = 'predictions_%s.nt'\n",
    "revfile_tmplt = 'predictions_rev_%s.nt'\n",
    "count = 1\n",
    "for class_name in xml_map.keys():\n",
    "    xml_obj = xml_map[class_name]\n",
    "    count_str = str(count)\n",
    "    file_name = outfile_tmplt%count\n",
    "    predfile = predfile_tmplt%count\n",
    "    revfile = revfile_tmplt%count\n",
    "    # change prediction and review file name\n",
    "    xml_obj.getroot().find('ACCEPTANCE').find('FILE').text = predfile\n",
    "    xml_obj.getroot().find('REVIEW').find('FILE').text = revfile\n",
    "    \n",
    "    # Convert obj to string and write \n",
    "    xmlstr = minidom.parseString(ET.tostring(xml_obj.getroot())).toprettyxml(indent=\"    \",encoding=\"utf-8\")\n",
    "    with open(file_name, \"wb\") as f:\n",
    "        f.write(xmlstr)\n",
    "    count+=1\n",
    "print('Done')"
   ]
  },
  {
   "cell_type": "code",
   "execution_count": null,
   "id": "818c37b9-df32-4ad2-81c5-14400cc82642",
   "metadata": {},
   "outputs": [],
   "source": []
  },
  {
   "cell_type": "code",
   "execution_count": 65,
   "id": "0ab85a76-b0c2-477d-bf97-ea13a36f01dd",
   "metadata": {},
   "outputs": [],
   "source": [
    "# Scrap code snippets below"
   ]
  },
  {
   "cell_type": "code",
   "execution_count": 25,
   "id": "7a267f89",
   "metadata": {},
   "outputs": [
    {
     "name": "stdout",
     "output_type": "stream",
     "text": [
      "en-dbpedia2016-10\n"
     ]
    }
   ],
   "source": [
    "print(sample_file.getroot().find('SOURCE').find('ID').text)"
   ]
  },
  {
   "cell_type": "code",
   "execution_count": 28,
   "id": "a25542aa",
   "metadata": {},
   "outputs": [],
   "source": [
    "source_ele = sample_file.getroot().find('SOURCE')\n",
    "restriction = ET.Element('RESTRICTION')\n",
    "restriction.text = '?x a <%s>'\n",
    "source_ele.append(restriction)"
   ]
  },
  {
   "cell_type": "code",
   "execution_count": 48,
   "id": "d7dd22c7",
   "metadata": {},
   "outputs": [
    {
     "ename": "SyntaxError",
     "evalue": "invalid syntax (<ipython-input-48-aa963a4be64b>, line 1)",
     "output_type": "error",
     "traceback": [
      "\u001b[0;36m  File \u001b[0;32m\"<ipython-input-48-aa963a4be64b>\"\u001b[0;36m, line \u001b[0;32m1\u001b[0m\n\u001b[0;31m    for item in sample_file.getroot().find('SOURCE')\u001b[0m\n\u001b[0m                                                    ^\u001b[0m\n\u001b[0;31mSyntaxError\u001b[0m\u001b[0;31m:\u001b[0m invalid syntax\n"
     ]
    }
   ],
   "source": [
    "for item in sample_file.getroot().find('SOURCE')\n",
    "print(item.tag, item.text)"
   ]
  },
  {
   "cell_type": "code",
   "execution_count": null,
   "id": "a8cb385a",
   "metadata": {},
   "outputs": [],
   "source": []
  },
  {
   "cell_type": "code",
   "execution_count": null,
   "id": "5804137b",
   "metadata": {},
   "outputs": [],
   "source": []
  }
 ],
 "metadata": {
  "kernelspec": {
   "display_name": "Python 3",
   "language": "python",
   "name": "python3"
  },
  "language_info": {
   "codemirror_mode": {
    "name": "ipython",
    "version": 3
   },
   "file_extension": ".py",
   "mimetype": "text/x-python",
   "name": "python",
   "nbconvert_exporter": "python",
   "pygments_lexer": "ipython3",
   "version": "3.8.8"
  }
 },
 "nbformat": 4,
 "nbformat_minor": 5
}
