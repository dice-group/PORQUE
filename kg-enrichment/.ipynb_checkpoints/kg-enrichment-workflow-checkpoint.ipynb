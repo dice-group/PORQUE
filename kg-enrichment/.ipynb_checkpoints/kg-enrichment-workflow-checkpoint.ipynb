{
 "cells": [
  {
   "cell_type": "code",
   "execution_count": null,
   "id": "9484d6c8-6435-44e3-8b65-825637a4a679",
   "metadata": {},
   "outputs": [],
   "source": [
    "# DBpedia Multilingual Enrichment\n",
    "# Download all data using scripts/dataset_download.sh\n",
    "# Create SPARQL endpoint using virtuoso - Look into Dev Notes for virtuoso config and data loading commands\n",
    "# Use xml-config-generator notebook to generate config for limes\n",
    "# Execute run_all_config.sh\n",
    "# Collect all the mappings and feed it to the additive data augmentation notebook\n",
    "# Use triples obtained from ADA files to upload into English DBpedia graph to complete enrichment."
   ]
  }
 ],
 "metadata": {
  "kernelspec": {
   "display_name": "Python 3",
   "language": "python",
   "name": "python3"
  },
  "language_info": {
   "codemirror_mode": {
    "name": "ipython",
    "version": 3
   },
   "file_extension": ".py",
   "mimetype": "text/x-python",
   "name": "python",
   "nbconvert_exporter": "python",
   "pygments_lexer": "ipython3",
   "version": "3.8.8"
  }
 },
 "nbformat": 4,
 "nbformat_minor": 5
}
