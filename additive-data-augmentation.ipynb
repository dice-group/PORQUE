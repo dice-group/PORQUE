{
 "cells": [
  {
   "cell_type": "code",
   "execution_count": 1,
   "metadata": {},
   "outputs": [],
   "source": [
    "# import\n",
    "# init sparql\n",
    "# create query template\n",
    "# start loop\n",
    "    # query\n",
    "    # extract results\n",
    "    # write to file\n",
    "    # check exit condition"
   ]
  },
  {
   "cell_type": "code",
   "execution_count": 10,
   "metadata": {},
   "outputs": [],
   "source": [
    "#import\n",
    "from SPARQLWrapper import SPARQLWrapper, JSON\n",
    "from string import Template"
   ]
  },
  {
   "cell_type": "code",
   "execution_count": 12,
   "metadata": {},
   "outputs": [],
   "source": [
    "# output dir\n",
    "out_dir = './ada_files/'\n",
    "# init sparql\n",
    "sparql = SPARQLWrapper(\"http://porque.cs.upb.de:3030/dbp-all-2016-10/sparql\")"
   ]
  },
  {
   "cell_type": "code",
   "execution_count": 13,
   "metadata": {},
   "outputs": [],
   "source": [
    "# create query template\n",
    "query_template = '''\n",
    "PREFIX owl: <http://www.w3.org/2002/07/owl#>\n",
    "CONSTRUCT \n",
    "{?s1 ?p1 ?o1 . ?s1 ?p2 ?o2 . } \n",
    "WHERE { \n",
    "?s1 ?p1 ?o1 . \n",
    "?s2 ?p2 ?o2 . \n",
    "?s1 owl:sameAs ?s2 . \n",
    "FILTER(regex(str(?s1 ), \"http://dbpedia.org/resource/\" ) && ?p1 != owl:sameAs && ?p2 != owl:sameAs)\n",
    "}\n",
    "LIMIT $limit\n",
    "OFFSET $offset\n",
    "'''"
   ]
  },
  {
   "cell_type": "code",
   "execution_count": null,
   "metadata": {},
   "outputs": [],
   "source": [
    "limit = 100000\n",
    "offset = 0\n",
    "count = 1\n",
    "# start loop\n",
    "while True:\n",
    "    # query\n",
    "    query = Template(query_template).substitute(limit=limit, offset=offset)\n",
    "    sparql.setQuery(query)\n",
    "    sparql.setReturnFormat(JSON)\n",
    "    # extract results\n",
    "    results = sparql.query().convert()\n",
    "    # print(results.serialize(format=\"ttl\"))\n",
    "    # Save the result in parts\n",
    "    outfile = out_dir + 'ada_triples_' + str(count) + '.ttl'\n",
    "    with open(outfile, 'w') as output_file:\n",
    "        output_file.write(results.serialize(format=\"ttl\"))\n",
    "    # check exit condition\n",
    "    if len(results) == 0:\n",
    "        break\n",
    "    offset+= limit\n",
    "    count+=1\n",
    "print('Total files written:', count-1)"
   ]
  },
  {
   "cell_type": "code",
   "execution_count": null,
   "metadata": {},
   "outputs": [],
   "source": []
  }
 ],
 "metadata": {
  "kernelspec": {
   "display_name": "Python 3",
   "language": "python",
   "name": "python3"
  },
  "language_info": {
   "codemirror_mode": {
    "name": "ipython",
    "version": 3
   },
   "file_extension": ".py",
   "mimetype": "text/x-python",
   "name": "python",
   "nbconvert_exporter": "python",
   "pygments_lexer": "ipython3",
   "version": "3.8.8"
  }
 },
 "nbformat": 4,
 "nbformat_minor": 4
}
