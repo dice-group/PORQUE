{
 "cells": [
  {
   "cell_type": "code",
   "execution_count": 1,
   "metadata": {},
   "outputs": [],
   "source": [
    "# import\n",
    "# init sparql\n",
    "# create query template\n",
    "# start loop\n",
    "    # query\n",
    "    # extract results\n",
    "    # write to file\n",
    "    # check exit condition"
   ]
  },
  {
   "cell_type": "code",
   "execution_count": 2,
   "metadata": {},
   "outputs": [],
   "source": [
    "#import\n",
    "from SPARQLWrapper import SPARQLWrapper, JSON\n",
    "from string import Template"
   ]
  },
  {
   "cell_type": "code",
   "execution_count": 3,
   "metadata": {},
   "outputs": [],
   "source": [
    "# init sparql\n",
    "sparql = SPARQLWrapper(\"http://porque.cs.upb.de:3030/dbp-all-2016-10/sparql\")"
   ]
  },
  {
   "cell_type": "code",
   "execution_count": 4,
   "metadata": {},
   "outputs": [],
   "source": [
    "# create query template\n",
    "query_template = '''\n",
    "CONSTRUCT \n",
    "{?s1 ?p1 ?o1 . ?s1 ?p2 ?o2 . } \n",
    "WHERE { \n",
    "?s1 ?p1 ?o1 . \n",
    "?s2 ?p2 ?o2 . \n",
    "?s1 owl:sameAs ?s2 . \n",
    "FILTER(regex(str(?s1 ), \"http://dbpedia.org/resource/\" ) && ?p1 != owl:sameAs && ?p2 != owl:sameAs)\n",
    "}\n",
    "LIMIT $limit\n",
    "OFFSET $offset\n",
    "'''"
   ]
  },
  {
   "cell_type": "code",
   "execution_count": 5,
   "metadata": {},
   "outputs": [
    {
     "ename": "NameError",
     "evalue": "name 'keep_checking' is not defined",
     "output_type": "error",
     "traceback": [
      "\u001b[0;31m---------------------------------------------------------------------------\u001b[0m",
      "\u001b[0;31mNameError\u001b[0m                                 Traceback (most recent call last)",
      "\u001b[0;32m<ipython-input-5-d6b418c02f87>\u001b[0m in \u001b[0;36m<module>\u001b[0;34m\u001b[0m\n\u001b[1;32m      1\u001b[0m \u001b[0mlimit\u001b[0m \u001b[0;34m=\u001b[0m \u001b[0;36m100000\u001b[0m\u001b[0;34m\u001b[0m\u001b[0;34m\u001b[0m\u001b[0m\n\u001b[1;32m      2\u001b[0m \u001b[0moffset\u001b[0m \u001b[0;34m=\u001b[0m \u001b[0;36m0\u001b[0m\u001b[0;34m\u001b[0m\u001b[0;34m\u001b[0m\u001b[0m\n\u001b[0;32m----> 3\u001b[0;31m \u001b[0mkeep_checking\u001b[0m\u001b[0;34m\u001b[0m\u001b[0;34m\u001b[0m\u001b[0m\n\u001b[0m",
      "\u001b[0;31mNameError\u001b[0m: name 'keep_checking' is not defined"
     ]
    }
   ],
   "source": [
    "limit = 100000\n",
    "offset = 0\n",
    "# TODO: Open output file stream\n",
    "# start loop\n",
    "while True:\n",
    "    # query\n",
    "    query = Template(query_template).substitute(limit=limit, offset=offset)\n",
    "    sparql.setQuery(query)\n",
    "    sparql.setReturnFormat(JSON)\n",
    "    # extract results\n",
    "    results = sparql.query().convert()\n",
    "    #print('Result size:',len(results[\"results\"][\"bindings\"]))\n",
    "    for result in results[\"results\"][\"bindings\"]:\n",
    "        #TODO: Write triple to file\n",
    "    # check exit condition\n",
    "    if len(results) == 0:\n",
    "        break\n",
    "    offset+= limit"
   ]
  },
  {
   "cell_type": "code",
   "execution_count": null,
   "metadata": {},
   "outputs": [],
   "source": [
    "="
   ]
  }
 ],
 "metadata": {
  "kernelspec": {
   "display_name": "Python 3",
   "language": "python",
   "name": "python3"
  },
  "language_info": {
   "codemirror_mode": {
    "name": "ipython",
    "version": 3
   },
   "file_extension": ".py",
   "mimetype": "text/x-python",
   "name": "python",
   "nbconvert_exporter": "python",
   "pygments_lexer": "ipython3",
   "version": "3.8.3"
  }
 },
 "nbformat": 4,
 "nbformat_minor": 4
}
