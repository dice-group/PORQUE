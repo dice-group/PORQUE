{
 "cells": [
  {
   "cell_type": "code",
   "execution_count": 31,
   "metadata": {},
   "outputs": [],
   "source": [
    "# import libraries\n",
    "# find all sameas links from english to de, fr, es and create three dicts\n",
    "# for each item in language specific dict\n",
    "    # find all the triples for language specific subject and uri obj\n",
    "    # create triple arrays with en subj and replaced obj\n",
    "    # find all the triples for language specific subject and non uri obj\n",
    "    # create triple arrays with en subj\n",
    "    # write triples to file"
   ]
  },
  {
   "cell_type": "code",
   "execution_count": 5,
   "metadata": {},
   "outputs": [],
   "source": [
    "#import\n",
    "from SPARQLWrapper import SPARQLWrapper, JSON\n",
    "import time\n",
    "import os"
   ]
  },
  {
   "cell_type": "code",
   "execution_count": 6,
   "metadata": {},
   "outputs": [],
   "source": [
    "# languages array\n",
    "lang_arr = ['en','de','es','fr']\n",
    "# non-english lang array\n",
    "ne_lang_arr = ['de','es','fr']\n",
    "# output dir\n",
    "out_dir = './ada_files/'\n",
    "# init sparql\n",
    "sparql = SPARQLWrapper(\"http://porque.cs.upb.de:3030/dbp-all-2016-10/sparql\")"
   ]
  },
  {
   "cell_type": "code",
   "execution_count": 11,
   "metadata": {},
   "outputs": [],
   "source": [
    "# create query template\n",
    "sameas_qry_tmplt = '''\n",
    "PREFIX owl: <http://www.w3.org/2002/07/owl#>\n",
    "SELECT \n",
    "?s1 ?s2 \n",
    "WHERE {\n",
    "?s1 owl:sameAs ?s2 . \n",
    "FILTER(STRSTARTS(str(?s1 ), \"http://dbpedia.org/resource/\" ) &&\n",
    " STRSTARTS(str(?s2 ), \"http://%s.dbpedia.org/resource/\" ))\n",
    "} LIMIT %s\n",
    "OFFSET %s\n",
    "'''\n",
    "\n",
    "uri_trpl_qry = '''\n",
    "SELECT \n",
    "?p ?o\n",
    "WHERE { \n",
    "<%s> ?p1 ?o1 .\n",
    "FILTER(isURI(?o1))\n",
    "}\n",
    "'''\n",
    "\n",
    "othr_trpl_qry = '''\n",
    "SELECT \n",
    "?p ?o\n",
    "WHERE { \n",
    "<%s> ?p1 ?o1 .\n",
    "FILTER(!isURI(?o1))\n",
    "}\n",
    "'''"
   ]
  },
  {
   "cell_type": "code",
   "execution_count": 12,
   "metadata": {},
   "outputs": [],
   "source": [
    "mapping_file_tmplt = out_dir + \"extracted_mappings/extracted_en-%s_links.ttl\""
   ]
  },
  {
   "cell_type": "code",
   "execution_count": 25,
   "metadata": {},
   "outputs": [],
   "source": [
    "\n",
    "sameas_dict = dict()\n",
    "for lang in ne_lang_arr:\n",
    "    cur_map = dict()\n",
    "    #fetch sameas links\n",
    "    with open(mapping_file_tmplt%(lang),'r') as mapping_file:\n",
    "        # read line by line\n",
    "        while (line_items := mapping_file.readline().rstrip().split()):\n",
    "            s1 = line_items[0]\n",
    "            s2 = line_items[2]\n",
    "            # read results and load mappings to cur_map\n",
    "            cur_map[s1] = s2\n",
    "    # load cur_map to sameas_dictraphdb is good. And someone could try out ox\n",
    "    sameas_dict[lang] = cur_map"
   ]
  },
  {
   "cell_type": "code",
   "execution_count": 31,
   "metadata": {},
   "outputs": [
    {
     "name": "stdout",
     "output_type": "stream",
     "text": [
      "1139521\n",
      "1005148\n",
      "1359645\n"
     ]
    }
   ],
   "source": [
    "print(len(sameas_dict['de']))\n",
    "print(len(sameas_dict['es']))\n",
    "print(len(sameas_dict['fr']))"
   ]
  },
  {
   "cell_type": "code",
   "execution_count": null,
   "metadata": {},
   "outputs": [],
   "source": [
    "triples_dir = \"/data-disk/kg-fusion/\"\n",
    "# For each language\n",
    "for lang in ne_lang_arr:\n",
    "    directory = os.fsencode(triples_dir + lang)\n",
    "    # For each file\n",
    "    for file in os.listdir(directory):\n",
    "        filename = os.fsdecode(file)\n",
    "        if filename.endswith(\".ttl\"): \n",
    "            with open(file,'r') as cur_file:\n",
    "                # For each line\n",
    "                while (line_items := mapping_file.readline().rstrip().split()):\n",
    "                    # Find mappings\n",
    "                    s = line_items[0]\n",
    "                    o = line_items[2]\n",
    "                    # case 1: Both subj and obj have english links\n",
    "                    # case 2: Subj is identified and object is literal  \n",
    "                    # case 3: Everything else\n",
    "        else:\n",
    "            continue"
   ]
  },
  {
   "cell_type": "code",
   "execution_count": 33,
   "metadata": {},
   "outputs": [
    {
     "name": "stdout",
     "output_type": "stream",
     "text": [
      "extracted_en-fr_links.ttl\n"
     ]
    },
    {
     "ename": "AttributeError",
     "evalue": "'str' object has no attribute 'readline'",
     "output_type": "error",
     "traceback": [
      "\u001b[0;31m---------------------------------------------------------------------------\u001b[0m",
      "\u001b[0;31mAttributeError\u001b[0m                            Traceback (most recent call last)",
      "\u001b[0;32m<ipython-input-33-5e1197eb2cde>\u001b[0m in \u001b[0;36m<module>\u001b[0;34m\u001b[0m\n\u001b[1;32m      2\u001b[0m \u001b[0;32mfor\u001b[0m \u001b[0mfile\u001b[0m \u001b[0;32min\u001b[0m \u001b[0mos\u001b[0m\u001b[0;34m.\u001b[0m\u001b[0mlistdir\u001b[0m\u001b[0;34m(\u001b[0m\u001b[0;34m'ada_files/extracted_mappings'\u001b[0m\u001b[0;34m)\u001b[0m\u001b[0;34m:\u001b[0m\u001b[0;34m\u001b[0m\u001b[0;34m\u001b[0m\u001b[0m\n\u001b[1;32m      3\u001b[0m     \u001b[0mprint\u001b[0m\u001b[0;34m(\u001b[0m\u001b[0mfile\u001b[0m\u001b[0;34m)\u001b[0m\u001b[0;34m\u001b[0m\u001b[0;34m\u001b[0m\u001b[0m\n\u001b[0;32m----> 4\u001b[0;31m     \u001b[0;32mwhile\u001b[0m \u001b[0;34m(\u001b[0m\u001b[0mline_items\u001b[0m \u001b[0;34m:=\u001b[0m \u001b[0mfile\u001b[0m\u001b[0;34m.\u001b[0m\u001b[0mreadline\u001b[0m\u001b[0;34m(\u001b[0m\u001b[0;34m)\u001b[0m\u001b[0;34m.\u001b[0m\u001b[0mrstrip\u001b[0m\u001b[0;34m(\u001b[0m\u001b[0;34m)\u001b[0m\u001b[0;34m.\u001b[0m\u001b[0msplit\u001b[0m\u001b[0;34m(\u001b[0m\u001b[0;34m)\u001b[0m\u001b[0;34m)\u001b[0m\u001b[0;34m:\u001b[0m\u001b[0;34m\u001b[0m\u001b[0;34m\u001b[0m\u001b[0m\n\u001b[0m\u001b[1;32m      5\u001b[0m         \u001b[0mprint\u001b[0m\u001b[0;34m(\u001b[0m\u001b[0mline_items\u001b[0m\u001b[0;34m)\u001b[0m\u001b[0;34m\u001b[0m\u001b[0;34m\u001b[0m\u001b[0m\n\u001b[1;32m      6\u001b[0m         \u001b[0;32mbreak\u001b[0m\u001b[0;34m\u001b[0m\u001b[0;34m\u001b[0m\u001b[0m\n",
      "\u001b[0;31mAttributeError\u001b[0m: 'str' object has no attribute 'readline'"
     ]
    }
   ],
   "source": [
    "import os\n",
    "for file in os.listdir('ada_files/extracted_mappings'):\n",
    "    print(file)\n",
    "    while (line_items := file.readline().rstrip().split()):\n",
    "        print(line_items)\n",
    "        break"
   ]
  },
  {
   "cell_type": "code",
   "execution_count": null,
   "metadata": {},
   "outputs": [],
   "source": []
  }
 ],
 "metadata": {
  "kernelspec": {
   "display_name": "Python 3",
   "language": "python",
   "name": "python3"
  },
  "language_info": {
   "codemirror_mode": {
    "name": "ipython",
    "version": 3
   },
   "file_extension": ".py",
   "mimetype": "text/x-python",
   "name": "python",
   "nbconvert_exporter": "python",
   "pygments_lexer": "ipython3",
   "version": "3.8.8"
  }
 },
 "nbformat": 4,
 "nbformat_minor": 4
}
